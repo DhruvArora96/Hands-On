{
  "nbformat": 4,
  "nbformat_minor": 0,
  "metadata": {
    "colab": {
      "name": "Untitled6.ipynb",
      "provenance": [],
      "collapsed_sections": [],
      "include_colab_link": true
    },
    "kernelspec": {
      "name": "python3",
      "display_name": "Python 3"
    }
  },
  "cells": [
    {
      "cell_type": "markdown",
      "metadata": {
        "id": "view-in-github",
        "colab_type": "text"
      },
      "source": [
        "<a href=\"https://colab.research.google.com/github/DhruvArora96/Hands-On/blob/master/Training.ipynb\" target=\"_parent\"><img src=\"https://colab.research.google.com/assets/colab-badge.svg\" alt=\"Open In Colab\"/></a>"
      ]
    },
    {
      "cell_type": "code",
      "metadata": {
        "id": "mSkpZs8bST9e",
        "colab_type": "code",
        "colab": {}
      },
      "source": [
        "import matplotlib.pyplot as plt\n",
        "import numpy as np"
      ],
      "execution_count": 0,
      "outputs": []
    },
    {
      "cell_type": "code",
      "metadata": {
        "id": "JpGvf8azrA4K",
        "colab_type": "code",
        "colab": {}
      },
      "source": [
        "X = 2*np.random.rand(100,1)\n",
        "Y=4+3*X+np.random.randn(100,1)"
      ],
      "execution_count": 0,
      "outputs": []
    },
    {
      "cell_type": "code",
      "metadata": {
        "id": "fJybVuaZrLUb",
        "colab_type": "code",
        "colab": {}
      },
      "source": [
        "plt.scatter(X,Y)"
      ],
      "execution_count": 0,
      "outputs": []
    },
    {
      "cell_type": "code",
      "metadata": {
        "id": "AgJX1Z8JrNSZ",
        "colab_type": "code",
        "colab": {}
      },
      "source": [
        "X_b = np.c_[np.ones((100,1)),X]\n",
        "theta_best = np.linalg.inv(X_b.T.dot(X_b)).dot(X_b.T).dot(Y)"
      ],
      "execution_count": 0,
      "outputs": []
    },
    {
      "cell_type": "code",
      "metadata": {
        "id": "_ouZ5fxErkFi",
        "colab_type": "code",
        "colab": {}
      },
      "source": [
        "theta_best"
      ],
      "execution_count": 0,
      "outputs": []
    },
    {
      "cell_type": "code",
      "metadata": {
        "id": "v6avCgm8rmZy",
        "colab_type": "code",
        "colab": {}
      },
      "source": [
        "X_new = np.array([[0],[2]])\n",
        "X_new_b = np.c_[np.ones((2,1)),X_new]\n",
        "y_predict = X_new_b.dot(theta_best)\n",
        "y_predict"
      ],
      "execution_count": 0,
      "outputs": []
    },
    {
      "cell_type": "code",
      "metadata": {
        "id": "huPDOy-nrwbI",
        "colab_type": "code",
        "colab": {}
      },
      "source": [
        "plt.plot(X_new,y_predict,\"r-\")\n",
        "plt.plot(X,Y,\"b.\")\n",
        "plt.show()"
      ],
      "execution_count": 0,
      "outputs": []
    },
    {
      "cell_type": "code",
      "metadata": {
        "id": "gDp8sQn-sQlS",
        "colab_type": "code",
        "colab": {}
      },
      "source": [
        "######################Gradient Descent##############################"
      ],
      "execution_count": 0,
      "outputs": []
    },
    {
      "cell_type": "code",
      "metadata": {
        "id": "7UPXZpkQ4mXp",
        "colab_type": "code",
        "colab": {}
      },
      "source": [
        "eta = 0.1 \n",
        "n_iterations = 1000\n",
        "m=100\n",
        "\n",
        "theta = np.random.randn(2,1)\n",
        "for iteration in range(n_iterations):\n",
        "    gradients = 2/m * X_b.T.dot(X_b.dot(theta)-Y)\n",
        "    theta = theta - eta*gradients\n",
        "theta"
      ],
      "execution_count": 0,
      "outputs": []
    },
    {
      "cell_type": "code",
      "metadata": {
        "id": "O7-rhexAvf0C",
        "colab_type": "code",
        "colab": {}
      },
      "source": [
        "##################Stochastic Gradient Descent###########################"
      ],
      "execution_count": 0,
      "outputs": []
    },
    {
      "cell_type": "code",
      "metadata": {
        "id": "y7R2ZQdAvjN1",
        "colab_type": "code",
        "colab": {}
      },
      "source": [
        "n_epochs = 50\n",
        "t0,t1 = 5,50\n",
        "def learning_schedule(t):\n",
        "    return t0/(t+t1)\n",
        "theta = np.random.randn(2,1)\n",
        "\n",
        "for epoch in range(n_epochs):\n",
        "    for i in range(m):\n",
        "        random_index = np.random.randint(m)\n",
        "        xi = X_b[random_index:random_index+1]\n",
        "        yi=Y[random_index:random_index+1]\n",
        "        gradients = 2*xi.T.dot(xi.dot(theta)-yi)\n",
        "        eta = learning_schedule(epoch*m+i)\n",
        "        theta = theta-eta*gradients"
      ],
      "execution_count": 0,
      "outputs": []
    },
    {
      "cell_type": "code",
      "metadata": {
        "id": "2eMe5Pa9xrYY",
        "colab_type": "code",
        "colab": {}
      },
      "source": [
        "theta"
      ],
      "execution_count": 0,
      "outputs": []
    },
    {
      "cell_type": "code",
      "metadata": {
        "id": "gi1gFGM1xPYN",
        "colab_type": "code",
        "colab": {}
      },
      "source": [
        "theta"
      ],
      "execution_count": 0,
      "outputs": []
    },
    {
      "cell_type": "code",
      "metadata": {
        "id": "0fg6Ri2wxQ3i",
        "colab_type": "code",
        "colab": {}
      },
      "source": [
        "y_predict1 = X_new_b.dot(theta)\n",
        "plt.plot(X_new,y_predict1,\"r-\")\n",
        "plt.plot(X_new,y_predict,\"g-\")\n",
        "plt.plot(X,Y,\"b.\")\n",
        "plt.show()"
      ],
      "execution_count": 0,
      "outputs": []
    },
    {
      "cell_type": "code",
      "metadata": {
        "id": "byd39u3oxiSB",
        "colab_type": "code",
        "colab": {}
      },
      "source": [
        "import numpy as np\n",
        "m=100\n",
        "X=6*np.random.rand(m,1)-3\n",
        "y = 0.5 *X**2+X*2+2+np.random.randn(m,1)"
      ],
      "execution_count": 0,
      "outputs": []
    },
    {
      "cell_type": "code",
      "metadata": {
        "id": "8AF-KpOByeCa",
        "colab_type": "code",
        "colab": {}
      },
      "source": [
        "plt.scatter(X,y)"
      ],
      "execution_count": 0,
      "outputs": []
    },
    {
      "cell_type": "code",
      "metadata": {
        "id": "_YF4a-I9ygIK",
        "colab_type": "code",
        "colab": {}
      },
      "source": [
        "from sklearn.preprocessing import PolynomialFeatures\n",
        "poly_features=PolynomialFeatures(degree=2,include_bias=False)\n",
        "X_poly = poly_features.fit_transform(X)"
      ],
      "execution_count": 0,
      "outputs": []
    },
    {
      "cell_type": "code",
      "metadata": {
        "id": "wBiWkk8yzFHi",
        "colab_type": "code",
        "colab": {}
      },
      "source": [
        "from sklearn.linear_model import LinearRegression\n",
        "lin_reg=LinearRegression()\n",
        "lin_reg.fit(X_poly,y)\n",
        "lin_reg.intercept_,lin_reg.coef_"
      ],
      "execution_count": 0,
      "outputs": []
    },
    {
      "cell_type": "code",
      "metadata": {
        "id": "R4PzOlggzk9m",
        "colab_type": "code",
        "colab": {}
      },
      "source": [
        "y_predict = lin_reg.coef_[0][1]*X**2+lin_reg.coef_[0][0]*X+lin_reg.intercept_"
      ],
      "execution_count": 0,
      "outputs": []
    },
    {
      "cell_type": "code",
      "metadata": {
        "id": "YPVcfPKJ0K1L",
        "colab_type": "code",
        "colab": {}
      },
      "source": [
        "plt.scatter(X,y_predict)"
      ],
      "execution_count": 0,
      "outputs": []
    },
    {
      "cell_type": "code",
      "metadata": {
        "id": "tuzxNwY_0PL_",
        "colab_type": "code",
        "colab": {}
      },
      "source": [
        "from sklearn.metrics import mean_squared_error\n",
        "from sklearn.model_selection import train_test_split\n",
        "import matplotlib.pyplot as plt\n",
        "def plot_learning_curves(model,X,y):\n",
        "    X_train,X_val,y_train,y_val = train_test_split(X,y,test_size=0.2)\n",
        "    train_errors,val_errors=[],[]\n",
        "    for m in range(1,len(X_train)):\n",
        "        model.fit(X_train[:m],y_train[:m])\n",
        "        y_train_predict=model.predict(X_train[:m])\n",
        "        y_val_predict=model.predict(X_val)\n",
        "        train_errors.append(mean_squared_error(y_train_predict,y_train[:m]))\n",
        "        val_errors.append(mean_squared_error(y_val_predict,y_val))\n",
        "    plt.plot(np.sqrt(train_errors),'r-+',linewidth=2,label=\"train\")\n",
        "    plt.plot(np.sqrt(val_errors),'b-',linewidth=3,label='val')\n",
        "    plt.ylim([-5,5])\n",
        "lin_reg=LinearRegression()\n",
        "plot_learning_curves(lin_reg,X,y)"
      ],
      "execution_count": 0,
      "outputs": []
    },
    {
      "cell_type": "code",
      "metadata": {
        "id": "YlwYgiRA272V",
        "colab_type": "code",
        "colab": {}
      },
      "source": [
        "from sklearn.pipeline import Pipeline\n",
        "from sklearn.preprocessing import StandardScaler\n",
        "polynomial_regression=Pipeline((\n",
        "    (\"poly_features\",PolynomialFeatures(degree=10,include_bias=False)),\n",
        "    (\"scaler\",StandardScaler()),\n",
        "    (\"lin_reg\",LinearRegression())\n",
        "))\n",
        "plot_learning_curves(polynomial_regression,X,y)"
      ],
      "execution_count": 0,
      "outputs": []
    },
    {
      "cell_type": "code",
      "metadata": {
        "id": "J8vzQkN-4_D4",
        "colab_type": "code",
        "colab": {}
      },
      "source": [
        "from sklearn.linear_model import Ridge\n",
        "ridge_reg=Ridge(alpha=2,solver=\"cholesky\")\n",
        "ridge_reg.fit(X_poly,y)\n",
        "ridge_reg.predict([[1.5,1.5**2]])"
      ],
      "execution_count": 0,
      "outputs": []
    },
    {
      "cell_type": "code",
      "metadata": {
        "id": "Ku1ms45V8zHN",
        "colab_type": "code",
        "colab": {}
      },
      "source": [
        "from sklearn.linear_model import SGDRegressor\n",
        "sgd_reg=SGDRegressor(penalty=\"l2\")\n",
        "sgd_reg.fit(X,y.ravel())\n",
        "sgd_reg.predict([[1.5]])"
      ],
      "execution_count": 0,
      "outputs": []
    },
    {
      "cell_type": "code",
      "metadata": {
        "id": "zvlTQ6AV87nL",
        "colab_type": "code",
        "colab": {}
      },
      "source": [
        "from sklearn.linear_model import Lasso\n",
        "lasso_reg = Lasso(alpha=0.1)\n",
        "lasso_reg.fit(X,y)\n",
        "lasso_reg.predict([[1.5]])"
      ],
      "execution_count": 0,
      "outputs": []
    },
    {
      "cell_type": "code",
      "metadata": {
        "id": "e3-EmwJPQjTJ",
        "colab_type": "code",
        "colab": {}
      },
      "source": [
        "from sklearn.linear_model import ElasticNet\n",
        "elastic = ElasticNet(alpha=0.1,l1_ratio=0.5)\n",
        "elastic.fit(X,y)\n",
        "elastic.predict([[1.5]])"
      ],
      "execution_count": 0,
      "outputs": []
    },
    {
      "cell_type": "markdown",
      "metadata": {
        "id": "yHqr18meUg66",
        "colab_type": "text"
      },
      "source": [
        "# Early Stopping"
      ]
    },
    {
      "cell_type": "code",
      "metadata": {
        "id": "XqzkuU_AUei_",
        "colab_type": "code",
        "colab": {}
      },
      "source": [
        "from sklearn.pipeline import Pipeline\n",
        "np.random.seed(42)\n",
        "m = 100\n",
        "X = 6 * np.random.rand(m, 1) - 3\n",
        "y = 2 + X + 0.5 * X**2 + np.random.randn(m, 1)\n",
        "\n",
        "X_train, X_val, y_train, y_val = train_test_split(X[:50], y[:50].ravel(), test_size=0.5, random_state=10)\n",
        "poly_scaler = Pipeline([\n",
        "        (\"poly_features\", PolynomialFeatures(degree=90, include_bias=False))\n",
        "    ])\n",
        "X_train_poly_scaled = poly_scaler.fit_transform(X_train)\n",
        "X_val_poly_scaled = poly_scaler.transform(X_val)"
      ],
      "execution_count": 0,
      "outputs": []
    },
    {
      "cell_type": "code",
      "metadata": {
        "id": "BIVr71C6RO14",
        "colab_type": "code",
        "colab": {}
      },
      "source": [
        "from sklearn.base import clone\n",
        "sgd = SGDRegressor(max_iter=1,warm_start=True,penalty=None,learning_rate=\"constant\",eta0=0.0005)\n",
        "min_val_error = float(\"inf\")\n",
        "best_epoch=None\n",
        "best_model =None\n",
        "for epoch in range(1000):\n",
        "    sgd.fit(X_train_poly_scaled,y_train)\n",
        "    y_val_predict = sgd.predict(X_val_poly_scaled)\n",
        "    val_error= mean_squared_error(y_val_predict,y_val)\n",
        "    if val_error<min_val_error:\n",
        "        min_val_error=val_error\n",
        "        best_epoch=epoch\n",
        "        best_model=clone(sgd)"
      ],
      "execution_count": 0,
      "outputs": []
    },
    {
      "cell_type": "code",
      "metadata": {
        "id": "3X8FrqsnT6FQ",
        "colab_type": "code",
        "colab": {}
      },
      "source": [
        "best_epoch"
      ],
      "execution_count": 0,
      "outputs": []
    },
    {
      "cell_type": "markdown",
      "metadata": {
        "id": "HGFjiuouVaDI",
        "colab_type": "text"
      },
      "source": [
        "# Logistic Regression"
      ]
    },
    {
      "cell_type": "code",
      "metadata": {
        "id": "kHkRV4joVcMv",
        "colab_type": "code",
        "colab": {
          "base_uri": "https://localhost:8080/",
          "height": 35
        },
        "outputId": "58ecabb9-b414-4eb2-8394-5118ffd01f80"
      },
      "source": [
        "from sklearn import datasets\n",
        "iris = datasets.load_iris()\n",
        "list(iris.keys())"
      ],
      "execution_count": 1,
      "outputs": [
        {
          "output_type": "execute_result",
          "data": {
            "text/plain": [
              "['data', 'target', 'target_names', 'DESCR', 'feature_names', 'filename']"
            ]
          },
          "metadata": {
            "tags": []
          },
          "execution_count": 1
        }
      ]
    },
    {
      "cell_type": "code",
      "metadata": {
        "id": "pOsn_zFDhdPK",
        "colab_type": "code",
        "colab": {}
      },
      "source": [
        "X=iris[\"data\"][:,3:]"
      ],
      "execution_count": 0,
      "outputs": []
    },
    {
      "cell_type": "code",
      "metadata": {
        "id": "ekVmiBkuhYLd",
        "colab_type": "code",
        "colab": {}
      },
      "source": [
        "y = (iris[\"target\"]==2).astype(np.int)"
      ],
      "execution_count": 0,
      "outputs": []
    },
    {
      "cell_type": "code",
      "metadata": {
        "id": "8P4a9aPDieRA",
        "colab_type": "code",
        "colab": {
          "base_uri": "https://localhost:8080/",
          "height": 124
        },
        "outputId": "1af9be27-91f9-4185-d184-9ebff69559f8"
      },
      "source": [
        "from sklearn.linear_model import LogisticRegression\n",
        "logreg=LogisticRegression()\n",
        "logreg.fit(X,y)"
      ],
      "execution_count": 23,
      "outputs": [
        {
          "output_type": "execute_result",
          "data": {
            "text/plain": [
              "LogisticRegression(C=1.0, class_weight=None, dual=False, fit_intercept=True,\n",
              "                   intercept_scaling=1, l1_ratio=None, max_iter=100,\n",
              "                   multi_class='auto', n_jobs=None, penalty='l2',\n",
              "                   random_state=None, solver='lbfgs', tol=0.0001, verbose=0,\n",
              "                   warm_start=False)"
            ]
          },
          "metadata": {
            "tags": []
          },
          "execution_count": 23
        }
      ]
    },
    {
      "cell_type": "code",
      "metadata": {
        "id": "O-06Jd12ixm9",
        "colab_type": "code",
        "colab": {
          "base_uri": "https://localhost:8080/",
          "height": 283
        },
        "outputId": "47fe6dc0-9ebe-4973-9916-b85ffb72296a"
      },
      "source": [
        "X_new=np.linspace(0,3,1000).reshape(-1,1)\n",
        "y_proba = logreg.predict_proba(X_new)\n",
        "plt.plot(X_new,y_proba[:,1],\"g\",label=\"Virgininca\")\n",
        "plt.plot(X_new,y_proba[:,0],\"b--\",label=\"Not Virginica\")"
      ],
      "execution_count": 28,
      "outputs": [
        {
          "output_type": "execute_result",
          "data": {
            "text/plain": [
              "[<matplotlib.lines.Line2D at 0x7f488e343748>]"
            ]
          },
          "metadata": {
            "tags": []
          },
          "execution_count": 28
        },
        {
          "output_type": "display_data",
          "data": {
            "image/png": "[encoded data removed]",
            "text/plain": [
              "<Figure size 432x288 with 1 Axes>"
            ]
          },
          "metadata": {
            "tags": []
          }
        }
      ]
    },
    {
      "cell_type": "code",
      "metadata": {
        "id": "lcc0LTZBi_zq",
        "colab_type": "code",
        "colab": {}
      },
      "source": [
        ""
      ],
      "execution_count": 0,
      "outputs": []
    }
  ]
}