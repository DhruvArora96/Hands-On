{
  "nbformat": 4,
  "nbformat_minor": 0,
  "metadata": {
    "colab": {
      "name": "Untitled6.ipynb",
      "provenance": [],
      "collapsed_sections": [],
      "include_colab_link": true
    },
    "kernelspec": {
      "name": "python3",
      "display_name": "Python 3"
    }
  },
  "cells": [
    {
      "cell_type": "markdown",
      "metadata": {
        "id": "view-in-github",
        "colab_type": "text"
      },
      "source": [
        "<a href=\"https://colab.research.google.com/github/DhruvArora96/Hands-On/blob/master/Training.ipynb\" target=\"_parent\"><img src=\"https://colab.research.google.com/assets/colab-badge.svg\" alt=\"Open In Colab\"/></a>"
      ]
    },
    {
      "cell_type": "code",
      "metadata": {
        "id": "mSkpZs8bST9e",
        "colab_type": "code",
        "colab": {}
      },
      "source": [
        "import matplotlib.pyplot as plt\n",
        "import numpy as np"
      ],
      "execution_count": 0,
      "outputs": []
    },
    {
      "cell_type": "code",
      "metadata": {
        "id": "JpGvf8azrA4K",
        "colab_type": "code",
        "colab": {}
      },
      "source": [
        "X = 2*np.random.rand(100,1)\n",
        "Y=4+3*X+np.random.randn(100,1)"
      ],
      "execution_count": 0,
      "outputs": []
    },
    {
      "cell_type": "code",
      "metadata": {
        "id": "fJybVuaZrLUb",
        "colab_type": "code",
        "outputId": "b0a0e61f-828e-46b8-f152-9e388b3ff60e",
        "colab": {
          "base_uri": "https://localhost:8080/",
          "height": 283
        }
      },
      "source": [
        "plt.scatter(X,Y)"
      ],
      "execution_count": 0,
      "outputs": [
        {
          "output_type": "execute_result",
          "data": {
            "text/plain": [
              "<matplotlib.collections.PathCollection at 0x7f79f485aac8>"
            ]
          },
          "metadata": {
            "tags": []
          },
          "execution_count": 3
        },
        {
          "output_type": "display_data",
          "data": {
            "image/png": "[encoded data removed]",
            "text/plain": [
              "<Figure size 432x288 with 1 Axes>"
            ]
          },
          "metadata": {
            "tags": []
          }
        }
      ]
    },
    {
      "cell_type": "code",
      "metadata": {
        "id": "AgJX1Z8JrNSZ",
        "colab_type": "code",
        "colab": {}
      },
      "source": [
        "X_b = np.c_[np.ones((100,1)),X]\n",
        "theta_best = np.linalg.inv(X_b.T.dot(X_b)).dot(X_b.T).dot(Y)"
      ],
      "execution_count": 0,
      "outputs": []
    },
    {
      "cell_type": "code",
      "metadata": {
        "id": "_ouZ5fxErkFi",
        "colab_type": "code",
        "outputId": "1976a4b7-b8d3-4886-e7d7-b44ecdfbdab0",
        "colab": {
          "base_uri": "https://localhost:8080/",
          "height": 52
        }
      },
      "source": [
        "theta_best"
      ],
      "execution_count": 0,
      "outputs": [
        {
          "output_type": "execute_result",
          "data": {
            "text/plain": [
              "array([[3.97037876],\n",
              "       [3.17270204]])"
            ]
          },
          "metadata": {
            "tags": []
          },
          "execution_count": 5
        }
      ]
    },
    {
      "cell_type": "code",
      "metadata": {
        "id": "v6avCgm8rmZy",
        "colab_type": "code",
        "outputId": "6c90050c-cc65-4109-9a97-5f010a2246b7",
        "colab": {
          "base_uri": "https://localhost:8080/",
          "height": 52
        }
      },
      "source": [
        "X_new = np.array([[0],[2]])\n",
        "X_new_b = np.c_[np.ones((2,1)),X_new]\n",
        "y_predict = X_new_b.dot(theta_best)\n",
        "y_predict"
      ],
      "execution_count": 0,
      "outputs": [
        {
          "output_type": "execute_result",
          "data": {
            "text/plain": [
              "array([[ 3.97037876],\n",
              "       [10.31578285]])"
            ]
          },
          "metadata": {
            "tags": []
          },
          "execution_count": 6
        }
      ]
    },
    {
      "cell_type": "code",
      "metadata": {
        "id": "huPDOy-nrwbI",
        "colab_type": "code",
        "outputId": "b806d69f-0490-490a-806c-fa974d4ae0f3",
        "colab": {
          "base_uri": "https://localhost:8080/",
          "height": 265
        }
      },
      "source": [
        "plt.plot(X_new,y_predict,\"r-\")\n",
        "plt.plot(X,Y,\"b.\")\n",
        "plt.show()"
      ],
      "execution_count": 0,
      "outputs": [
        {
          "output_type": "display_data",
          "data": {
            "image/png": "[encoded data removed]",
            "text/plain": [
              "<Figure size 432x288 with 1 Axes>"
            ]
          },
          "metadata": {
            "tags": []
          }
        }
      ]
    },
    {
      "cell_type": "code",
      "metadata": {
        "id": "gDp8sQn-sQlS",
        "colab_type": "code",
        "colab": {}
      },
      "source": [
        "######################Gradient Descent##############################"
      ],
      "execution_count": 0,
      "outputs": []
    },
    {
      "cell_type": "code",
      "metadata": {
        "id": "7UPXZpkQ4mXp",
        "colab_type": "code",
        "outputId": "4dc406e6-f8c5-48cf-dc87-c1702b7deabb",
        "colab": {
          "base_uri": "https://localhost:8080/",
          "height": 52
        }
      },
      "source": [
        "eta = 0.1 \n",
        "n_iterations = 1000\n",
        "m=100\n",
        "\n",
        "theta = np.random.randn(2,1)\n",
        "for iteration in range(n_iterations):\n",
        "    gradients = 2/m * X_b.T.dot(X_b.dot(theta)-Y)\n",
        "    theta = theta - eta*gradients\n",
        "theta"
      ],
      "execution_count": 0,
      "outputs": [
        {
          "output_type": "execute_result",
          "data": {
            "text/plain": [
              "array([[3.97037876],\n",
              "       [3.17270204]])"
            ]
          },
          "metadata": {
            "tags": []
          },
          "execution_count": 9
        }
      ]
    },
    {
      "cell_type": "code",
      "metadata": {
        "id": "O7-rhexAvf0C",
        "colab_type": "code",
        "colab": {}
      },
      "source": [
        "##################Stochastic Gradient Descent###########################"
      ],
      "execution_count": 0,
      "outputs": []
    },
    {
      "cell_type": "code",
      "metadata": {
        "id": "y7R2ZQdAvjN1",
        "colab_type": "code",
        "colab": {}
      },
      "source": [
        "n_epochs = 50\n",
        "t0,t1 = 5,50\n",
        "def learning_schedule(t):\n",
        "    return t0/(t+t1)\n",
        "theta = np.random.randn(2,1)\n",
        "\n",
        "for epoch in range(n_epochs):\n",
        "    for i in range(m):\n",
        "        random_index = np.random.randint(m)\n",
        "        xi = X_b[random_index:random_index+1]\n",
        "        yi=Y[random_index:random_index+1]\n",
        "        gradients = 2*xi.T.dot(xi.dot(theta)-yi)\n",
        "        eta = learning_schedule(epoch*m+i)\n",
        "        theta = theta-eta*gradients"
      ],
      "execution_count": 0,
      "outputs": []
    },
    {
      "cell_type": "code",
      "metadata": {
        "id": "2eMe5Pa9xrYY",
        "colab_type": "code",
        "outputId": "2f0227f5-c16c-4743-f063-595484e27436",
        "colab": {
          "base_uri": "https://localhost:8080/",
          "height": 52
        }
      },
      "source": [
        "theta"
      ],
      "execution_count": 0,
      "outputs": [
        {
          "output_type": "execute_result",
          "data": {
            "text/plain": [
              "array([[3.92128841],\n",
              "       [3.21109869]])"
            ]
          },
          "metadata": {
            "tags": []
          },
          "execution_count": 25
        }
      ]
    },
    {
      "cell_type": "code",
      "metadata": {
        "id": "gi1gFGM1xPYN",
        "colab_type": "code",
        "outputId": "f67beba4-1b1c-408f-a7d5-a133a7c88736",
        "colab": {
          "base_uri": "https://localhost:8080/",
          "height": 52
        }
      },
      "source": [
        "theta"
      ],
      "execution_count": 0,
      "outputs": [
        {
          "output_type": "execute_result",
          "data": {
            "text/plain": [
              "array([[3.92128841],\n",
              "       [3.21109869]])"
            ]
          },
          "metadata": {
            "tags": []
          },
          "execution_count": 14
        }
      ]
    },
    {
      "cell_type": "code",
      "metadata": {
        "id": "0fg6Ri2wxQ3i",
        "colab_type": "code",
        "outputId": "0b1648cf-49cb-4571-f485-1988b7548b5d",
        "colab": {
          "base_uri": "https://localhost:8080/",
          "height": 265
        }
      },
      "source": [
        "y_predict1 = X_new_b.dot(theta)\n",
        "plt.plot(X_new,y_predict1,\"r-\")\n",
        "plt.plot(X_new,y_predict,\"g-\")\n",
        "plt.plot(X,Y,\"b.\")\n",
        "plt.show()"
      ],
      "execution_count": 0,
      "outputs": [
        {
          "output_type": "display_data",
          "data": {
            "image/png": "[encoded data removed]",
            "text/plain": [
              "<Figure size 432x288 with 1 Axes>"
            ]
          },
          "metadata": {
            "tags": []
          }
        }
      ]
    },
    {
      "cell_type": "code",
      "metadata": {
        "id": "byd39u3oxiSB",
        "colab_type": "code",
        "colab": {}
      },
      "source": [
        "m=100\n",
        "X=6*np.random.rand(m,1)-3\n",
        "y = 0.5 *X**2+X*2+2+np.random.randn(m,1)"
      ],
      "execution_count": 0,
      "outputs": []
    },
    {
      "cell_type": "code",
      "metadata": {
        "id": "8AF-KpOByeCa",
        "colab_type": "code",
        "colab": {
          "base_uri": "https://localhost:8080/",
          "height": 283
        },
        "outputId": "ee2d904b-54c1-46ef-a4b1-3dbf6024e029"
      },
      "source": [
        "plt.scatter(X,y)"
      ],
      "execution_count": 5,
      "outputs": [
        {
          "output_type": "execute_result",
          "data": {
            "text/plain": [
              "<matplotlib.collections.PathCollection at 0x7f3767c536a0>"
            ]
          },
          "metadata": {
            "tags": []
          },
          "execution_count": 5
        },
        {
          "output_type": "display_data",
          "data": {
            "image/png": "[encoded data removed]",
            "text/plain": [
              "<Figure size 432x288 with 1 Axes>"
            ]
          },
          "metadata": {
            "tags": []
          }
        }
      ]
    },
    {
      "cell_type": "code",
      "metadata": {
        "id": "_YF4a-I9ygIK",
        "colab_type": "code",
        "colab": {}
      },
      "source": [
        "from sklearn.preprocessing import PolynomialFeatures\n",
        "poly_features=PolynomialFeatures(degree=2,include_bias=False)\n",
        "X_poly = poly_features.fit_transform(X)"
      ],
      "execution_count": 0,
      "outputs": []
    },
    {
      "cell_type": "code",
      "metadata": {
        "id": "wBiWkk8yzFHi",
        "colab_type": "code",
        "colab": {
          "base_uri": "https://localhost:8080/",
          "height": 35
        },
        "outputId": "790222ec-fbc0-4ec1-9c1d-2ba8c7d9bbe7"
      },
      "source": [
        "from sklearn.linear_model import LinearRegression\n",
        "lin_reg=LinearRegression()\n",
        "lin_reg.fit(X_poly,y)\n",
        "lin_reg.intercept_,lin_reg.coef_"
      ],
      "execution_count": 7,
      "outputs": [
        {
          "output_type": "execute_result",
          "data": {
            "text/plain": [
              "(array([2.01757477]), array([[1.9455932 , 0.55866913]]))"
            ]
          },
          "metadata": {
            "tags": []
          },
          "execution_count": 7
        }
      ]
    },
    {
      "cell_type": "code",
      "metadata": {
        "id": "R4PzOlggzk9m",
        "colab_type": "code",
        "colab": {}
      },
      "source": [
        "y_predict = lin_reg.coef_[0][1]*X**2+lin_reg.coef_[0][0]*X+lin_reg.intercept_"
      ],
      "execution_count": 0,
      "outputs": []
    },
    {
      "cell_type": "code",
      "metadata": {
        "id": "YPVcfPKJ0K1L",
        "colab_type": "code",
        "colab": {
          "base_uri": "https://localhost:8080/",
          "height": 283
        },
        "outputId": "9d00dd1c-a878-43c0-8912-123e148a3f17"
      },
      "source": [
        "plt.scatter(X,y_predict)"
      ],
      "execution_count": 12,
      "outputs": [
        {
          "output_type": "execute_result",
          "data": {
            "text/plain": [
              "<matplotlib.collections.PathCollection at 0x7f375831f9e8>"
            ]
          },
          "metadata": {
            "tags": []
          },
          "execution_count": 12
        },
        {
          "output_type": "display_data",
          "data": {
            "image/png": "[encoded data removed]",
            "text/plain": [
              "<Figure size 432x288 with 1 Axes>"
            ]
          },
          "metadata": {
            "tags": []
          }
        }
      ]
    },
    {
      "cell_type": "code",
      "metadata": {
        "id": "tuzxNwY_0PL_",
        "colab_type": "code",
        "colab": {
          "base_uri": "https://localhost:8080/",
          "height": 265
        },
        "outputId": "d899247d-6c93-40aa-f6c0-b6161db8aaf6"
      },
      "source": [
        "from sklearn.metrics import mean_squared_error\n",
        "from sklearn.model_selection import train_test_split\n",
        "\n",
        "def plot_learning_curves(model,X,y):\n",
        "    X_train,X_val,y_train,y_val = train_test_split(X,y,test_size=0.2)\n",
        "    train_errors,val_errors=[],[]\n",
        "    for m in range(1,len(X_train)):\n",
        "        model.fit(X_train[:m],y_train[:m])\n",
        "        y_train_predict=model.predict(X_train[:m])\n",
        "        y_val_predict=model.predict(X_val)\n",
        "        train_errors.append(mean_squared_error(y_train_predict,y_train[:m]))\n",
        "        val_errors.append(mean_squared_error(y_val_predict,y_val))\n",
        "    plt.plot(np.sqrt(train_errors),'r-+',linewidth=2,label=\"train\")\n",
        "    plt.plot(np.sqrt(val_errors),'b-',linewidth=3,label='val')\n",
        "    plt.ylim([-5,5])\n",
        "lin_reg=LinearRegression()\n",
        "plot_learning_curves(lin_reg,X,y)"
      ],
      "execution_count": 19,
      "outputs": [
        {
          "output_type": "display_data",
          "data": {
            "image/png": "[encoded data removed]",
            "text/plain": [
              "<Figure size 432x288 with 1 Axes>"
            ]
          },
          "metadata": {
            "tags": []
          }
        }
      ]
    },
    {
      "cell_type": "code",
      "metadata": {
        "id": "YlwYgiRA272V",
        "colab_type": "code",
        "colab": {
          "base_uri": "https://localhost:8080/",
          "height": 265
        },
        "outputId": "07e73260-a6c8-4749-956f-5b2d627346f3"
      },
      "source": [
        "from sklearn.pipeline import Pipeline\n",
        "from sklearn.preprocessing import StandardScaler\n",
        "polynomial_regression=Pipeline((\n",
        "    (\"poly_features\",PolynomialFeatures(degree=10,include_bias=False)),\n",
        "    (\"scaler\",StandardScaler()),\n",
        "    (\"lin_reg\",LinearRegression())\n",
        "))\n",
        "plot_learning_curves(polynomial_regression,X,y)"
      ],
      "execution_count": 32,
      "outputs": [
        {
          "output_type": "display_data",
          "data": {
            "image/png": "[encoded data removed]",
            "text/plain": [
              "<Figure size 432x288 with 1 Axes>"
            ]
          },
          "metadata": {
            "tags": []
          }
        }
      ]
    },
    {
      "cell_type": "code",
      "metadata": {
        "id": "J8vzQkN-4_D4",
        "colab_type": "code",
        "colab": {
          "base_uri": "https://localhost:8080/",
          "height": 35
        },
        "outputId": "633a0179-eac1-4451-e137-9afcfc87c9da"
      },
      "source": [
        "from sklearn.linear_model import Ridge\n",
        "ridge_reg=Ridge(alpha=2,solver=\"cholesky\")\n",
        "ridge_reg.fit(X_poly,y)\n",
        "ridge_reg.predict([[1.5,1.5**2]])"
      ],
      "execution_count": 43,
      "outputs": [
        {
          "output_type": "execute_result",
          "data": {
            "text/plain": [
              "array([[4.51152531]])"
            ]
          },
          "metadata": {
            "tags": []
          },
          "execution_count": 43
        }
      ]
    },
    {
      "cell_type": "code",
      "metadata": {
        "id": "Ku1ms45V8zHN",
        "colab_type": "code",
        "colab": {
          "base_uri": "https://localhost:8080/",
          "height": 35
        },
        "outputId": "53fc1775-4b5c-4926-fcba-5537e7da6682"
      },
      "source": [
        "from sklearn.linear_model import SGDRegressor\n",
        "sgd_reg=SGDRegressor(penalty=\"l2\")\n",
        "sgd_reg.fit(X_poly,y.ravel())\n",
        "sgd_reg.predict([[1.5,1.5**2]])"
      ],
      "execution_count": 41,
      "outputs": [
        {
          "output_type": "execute_result",
          "data": {
            "text/plain": [
              "array([4.27946069])"
            ]
          },
          "metadata": {
            "tags": []
          },
          "execution_count": 41
        }
      ]
    },
    {
      "cell_type": "code",
      "metadata": {
        "id": "zvlTQ6AV87nL",
        "colab_type": "code",
        "colab": {}
      },
      "source": [
        ""
      ],
      "execution_count": 0,
      "outputs": []
    }
  ]
}